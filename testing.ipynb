{
 "cells": [
  {
   "cell_type": "code",
   "execution_count": 2,
   "metadata": {},
   "outputs": [
    {
     "name": "stdout",
     "output_type": "stream",
     "text": [
      "\n",
      "difficulty: 30\n"
     ]
    },
    {
     "data": {
      "image/png": "[encoded data removed]",
      "text/latex": [
       "$\\displaystyle \\frac{x \\left(\\frac{13 x^{2}}{81} + 12\\right)}{14 \\left(\\frac{17 x}{19} - \\frac{102}{19}\\right)} = 0$"
      ],
      "text/plain": [
       "   ⎛    2     ⎞    \n",
       "   ⎜13⋅x      ⎟    \n",
       " x⋅⎜───── + 12⎟    \n",
       "   ⎝  81      ⎠    \n",
       "─────────────── = 0\n",
       "   ⎛17⋅x   102⎞    \n",
       "14⋅⎜──── - ───⎟    \n",
       "   ⎝ 19     19⎠    "
      ]
     },
     "metadata": {},
     "output_type": "display_data"
    },
    {
     "data": {
      "image/png": "[encoded data removed]",
      "text/latex": [
       "$\\displaystyle \\left[ 0\\right]$"
      ],
      "text/plain": [
       "[0]"
      ]
     },
     "metadata": {},
     "output_type": "display_data"
    },
    {
     "name": "stdout",
     "output_type": "stream",
     "text": [
      "――――――――――――――――――――――――――――――\n",
      "\n",
      "difficulty: 18\n"
     ]
    },
    {
     "data": {
      "image/png": "[encoded data removed]",
      "text/latex": [
       "$\\displaystyle 11 x^{2} \\left(x + 14\\right) - 8 x = 0$"
      ],
      "text/plain": [
       "    2                   \n",
       "11⋅x ⋅(x + 14) - 8⋅x = 0"
      ]
     },
     "metadata": {},
     "output_type": "display_data"
    },
    {
     "data": {
      "image/png": "[encoded data removed]",
      "text/latex": [
       "$\\displaystyle \\left[ 0, \\  -7 + \\frac{\\sqrt{6017}}{11}, \\  - \\frac{\\sqrt{6017}}{11} - 7\\right]$"
      ],
      "text/plain": [
       "⎡        √6017    √6017    ⎤\n",
       "⎢0, -7 + ─────, - ───── - 7⎥\n",
       "⎣          11       11     ⎦"
      ]
     },
     "metadata": {},
     "output_type": "display_data"
    },
    {
     "name": "stdout",
     "output_type": "stream",
     "text": [
      "――――――――――――――――――――――――――――――\n",
      "\n",
      "difficulty: 10\n"
     ]
    },
    {
     "data": {
      "image/png": "[encoded data removed]",
      "text/latex": [
       "$\\displaystyle \\frac{x^{2}}{50} + 5 x - 55 = 0$"
      ],
      "text/plain": [
       " 2               \n",
       "x                \n",
       "── + 5⋅x - 55 = 0\n",
       "50               "
      ]
     },
     "metadata": {},
     "output_type": "display_data"
    },
    {
     "data": {
      "image/png": "[encoded data removed]",
      "text/latex": [
       "$\\displaystyle \\left[ -125 + 35 \\sqrt{15}, \\  - 35 \\sqrt{15} - 125\\right]$"
      ],
      "text/plain": [
       "[-125 + 35⋅√15, -35⋅√15 - 125]"
      ]
     },
     "metadata": {},
     "output_type": "display_data"
    },
    {
     "name": "stdout",
     "output_type": "stream",
     "text": [
      "――――――――――――――――――――――――――――――\n",
      "\n",
      "difficulty: 1\n"
     ]
    },
    {
     "data": {
      "image/png": "[encoded data removed]",
      "text/latex": [
       "$\\displaystyle \\frac{x}{2} = 28$"
      ],
      "text/plain": [
       "x     \n",
       "─ = 28\n",
       "2     "
      ]
     },
     "metadata": {},
     "output_type": "display_data"
    },
    {
     "data": {
      "image/png": "[encoded data removed]",
      "text/latex": [
       "$\\displaystyle \\left[ 56\\right]$"
      ],
      "text/plain": [
       "[56]"
      ]
     },
     "metadata": {},
     "output_type": "display_data"
    },
    {
     "name": "stdout",
     "output_type": "stream",
     "text": [
      "――――――――――――――――――――――――――――――\n",
      "\n",
      "difficulty: 10\n"
     ]
    },
    {
     "data": {
      "image/png": "[encoded data removed]",
      "text/latex": [
       "$\\displaystyle \\frac{x^{2}}{49} + 9 x + 12 = 0$"
      ],
      "text/plain": [
       " 2               \n",
       "x                \n",
       "── + 9⋅x + 12 = 0\n",
       "49               "
      ]
     },
     "metadata": {},
     "output_type": "display_data"
    },
    {
     "data": {
      "image/png": "[encoded data removed]",
      "text/latex": [
       "$\\displaystyle \\left[ - \\frac{441}{2} - \\frac{7 \\sqrt{3921}}{2}, \\  - \\frac{441}{2} + \\frac{7 \\sqrt{3921}}{2}\\right]$"
      ],
      "text/plain": [
       "⎡  441   7⋅√3921    441   7⋅√3921⎤\n",
       "⎢- ─── - ───────, - ─── + ───────⎥\n",
       "⎣   2       2        2       2   ⎦"
      ]
     },
     "metadata": {},
     "output_type": "display_data"
    },
    {
     "name": "stdout",
     "output_type": "stream",
     "text": [
      "――――――――――――――――――――――――――――――\n",
      "\n",
      "difficulty: 4\n"
     ]
    },
    {
     "data": {
      "image/png": "[encoded data removed]",
      "text/latex": [
       "$\\displaystyle \\frac{x^{2}}{224} = 0$"
      ],
      "text/plain": [
       "  2    \n",
       " x     \n",
       "─── = 0\n",
       "224    "
      ]
     },
     "metadata": {},
     "output_type": "display_data"
    },
    {
     "data": {
      "image/png": "[encoded data removed]",
      "text/latex": [
       "$\\displaystyle \\left[ 0\\right]$"
      ],
      "text/plain": [
       "[0]"
      ]
     },
     "metadata": {},
     "output_type": "display_data"
    },
    {
     "name": "stdout",
     "output_type": "stream",
     "text": [
      "――――――――――――――――――――――――――――――\n",
      "\n",
      "difficulty: 11\n"
     ]
    },
    {
     "data": {
      "image/png": "[encoded data removed]",
      "text/latex": [
       "$\\displaystyle \\frac{\\frac{x}{10} - \\frac{33}{10}}{\\frac{2 x^{2}}{9} + \\frac{19 x}{18} - 23} = - \\frac{57}{1060}$"
      ],
      "text/plain": [
       "    x    33            \n",
       "    ── - ──            \n",
       "    10   10        -57 \n",
       "──────────────── = ────\n",
       "   2               1060\n",
       "2⋅x    19⋅x            \n",
       "──── + ──── - 23       \n",
       " 9      18             "
      ]
     },
     "metadata": {},
     "output_type": "display_data"
    },
    {
     "data": {
      "image/png": "[encoded data removed]",
      "text/latex": [
       "$\\displaystyle \\left[ 14, \\  - \\frac{2061}{76}\\right]$"
      ],
      "text/plain": [
       "⎡    -2061 ⎤\n",
       "⎢14, ──────⎥\n",
       "⎣      76  ⎦"
      ]
     },
     "metadata": {},
     "output_type": "display_data"
    },
    {
     "name": "stdout",
     "output_type": "stream",
     "text": [
      "――――――――――――――――――――――――――――――\n",
      "\n",
      "difficulty: 2\n"
     ]
    },
    {
     "data": {
      "image/png": "[encoded data removed]",
      "text/latex": [
       "$\\displaystyle 12 x - 20 = 88$"
      ],
      "text/plain": [
       "12⋅x - 20 = 88"
      ]
     },
     "metadata": {},
     "output_type": "display_data"
    },
    {
     "data": {
      "image/png": "[encoded data removed]",
      "text/latex": [
       "$\\displaystyle \\left[ 9\\right]$"
      ],
      "text/plain": [
       "[9]"
      ]
     },
     "metadata": {},
     "output_type": "display_data"
    },
    {
     "name": "stdout",
     "output_type": "stream",
     "text": [
      "――――――――――――――――――――――――――――――\n",
      "\n",
      "difficulty: 4\n"
     ]
    },
    {
     "data": {
      "image/png": "[encoded data removed]",
      "text/latex": [
       "$\\displaystyle \\left(x - 1\\right)^{2} = 0$"
      ],
      "text/plain": [
       "       2    \n",
       "(x - 1)  = 0"
      ]
     },
     "metadata": {},
     "output_type": "display_data"
    },
    {
     "data": {
      "image/png": "[encoded data removed]",
      "text/latex": [
       "$\\displaystyle \\left[ 1\\right]$"
      ],
      "text/plain": [
       "[1]"
      ]
     },
     "metadata": {},
     "output_type": "display_data"
    },
    {
     "name": "stdout",
     "output_type": "stream",
     "text": [
      "――――――――――――――――――――――――――――――\n",
      "\n",
      "difficulty: 4\n"
     ]
    },
    {
     "data": {
      "image/png": "[encoded data removed]",
      "text/latex": [
       "$\\displaystyle \\frac{\\frac{8 x}{221} - 17}{x} = - \\frac{3605}{4199}$"
      ],
      "text/plain": [
       "8⋅x              \n",
       "─── - 17         \n",
       "221        -3605 \n",
       "──────── = ──────\n",
       "   x        4199 "
      ]
     },
     "metadata": {},
     "output_type": "display_data"
    },
    {
     "data": {
      "image/png": "[encoded data removed]",
      "text/latex": [
       "$\\displaystyle \\left[ 19\\right]$"
      ],
      "text/plain": [
       "[19]"
      ]
     },
     "metadata": {},
     "output_type": "display_data"
    },
    {
     "name": "stdout",
     "output_type": "stream",
     "text": [
      "――――――――――――――――――――――――――――――\n",
      "\n",
      "difficulty: 6\n"
     ]
    },
    {
     "data": {
      "image/png": "[encoded data removed]",
      "text/latex": [
       "$\\displaystyle 19 x^{3} = 6241671$"
      ],
      "text/plain": [
       "    3          \n",
       "19⋅x  = 6241671"
      ]
     },
     "metadata": {},
     "output_type": "display_data"
    },
    {
     "data": {
      "image/png": "[encoded data removed]",
      "text/latex": [
       "$\\displaystyle \\left[ 69\\right]$"
      ],
      "text/plain": [
       "[69]"
      ]
     },
     "metadata": {},
     "output_type": "display_data"
    },
    {
     "name": "stdout",
     "output_type": "stream",
     "text": [
      "――――――――――――――――――――――――――――――\n",
      "\n",
      "difficulty: 10\n"
     ]
    },
    {
     "data": {
      "image/png": "[encoded data removed]",
      "text/latex": [
       "$\\displaystyle \\frac{x^{2}}{4} - 35 x + 21 = - \\frac{55}{4}$"
      ],
      "text/plain": [
       " 2                    \n",
       "x                     \n",
       "── - 35⋅x + 21 = -55/4\n",
       "4                     "
      ]
     },
     "metadata": {},
     "output_type": "display_data"
    },
    {
     "data": {
      "image/png": "[encoded data removed]",
      "text/latex": [
       "$\\displaystyle \\left[ 1, \\  139\\right]$"
      ],
      "text/plain": [
       "[1, 139]"
      ]
     },
     "metadata": {},
     "output_type": "display_data"
    },
    {
     "name": "stdout",
     "output_type": "stream",
     "text": [
      "――――――――――――――――――――――――――――――\n",
      "\n",
      "difficulty: 1\n"
     ]
    },
    {
     "data": {
      "image/png": "[encoded data removed]",
      "text/latex": [
       "$\\displaystyle x + 7 = 71$"
      ],
      "text/plain": [
       "x + 7 = 71"
      ]
     },
     "metadata": {},
     "output_type": "display_data"
    },
    {
     "data": {
      "image/png": "[encoded data removed]",
      "text/latex": [
       "$\\displaystyle \\left[ 64\\right]$"
      ],
      "text/plain": [
       "[64]"
      ]
     },
     "metadata": {},
     "output_type": "display_data"
    },
    {
     "name": "stdout",
     "output_type": "stream",
     "text": [
      "――――――――――――――――――――――――――――――\n",
      "\n",
      "difficulty: 5\n"
     ]
    },
    {
     "data": {
      "image/png": "[encoded data removed]",
      "text/latex": [
       "$\\displaystyle \\frac{x + 5}{1 - \\frac{247 x}{21}} = - \\frac{441}{3931}$"
      ],
      "text/plain": [
       "  x + 5     -441 \n",
       "───────── = ─────\n",
       "    247⋅x    3931\n",
       "1 - ─────        \n",
       "      21         "
      ]
     },
     "metadata": {},
     "output_type": "display_data"
    },
    {
     "data": {
      "image/png": "[encoded data removed]",
      "text/latex": [
       "$\\displaystyle \\left[ 16\\right]$"
      ],
      "text/plain": [
       "[16]"
      ]
     },
     "metadata": {},
     "output_type": "display_data"
    },
    {
     "name": "stdout",
     "output_type": "stream",
     "text": [
      "――――――――――――――――――――――――――――――\n",
      "\n",
      "difficulty: 78\n"
     ]
    },
    {
     "data": {
      "image/png": "[encoded data removed]",
      "text/latex": [
       "$\\displaystyle \\left(\\frac{x}{17} - \\frac{6}{17}\\right) \\left(x + 4\\right) \\left(\\frac{x^{2}}{16} - 1\\right) \\left(9 x^{2} - 45\\right) = 0$"
      ],
      "text/plain": [
       "                  ⎛ 2    ⎞                \n",
       "⎛x    6 ⎞         ⎜x     ⎟ ⎛   2     ⎞    \n",
       "⎜── - ──⎟⋅(x + 4)⋅⎜── - 1⎟⋅⎝9⋅x  - 45⎠ = 0\n",
       "⎝17   17⎠         ⎝16    ⎠                "
      ]
     },
     "metadata": {},
     "output_type": "display_data"
    },
    {
     "data": {
      "image/png": "[encoded data removed]",
      "text/latex": [
       "$\\displaystyle \\left[ -4, \\  4, \\  6, \\  - \\sqrt{5}, \\  \\sqrt{5}\\right]$"
      ],
      "text/plain": [
       "[-4, 4, 6, -√5, √5]"
      ]
     },
     "metadata": {},
     "output_type": "display_data"
    },
    {
     "name": "stdout",
     "output_type": "stream",
     "text": [
      "――――――――――――――――――――――――――――――\n",
      "\n",
      "difficulty: 24\n"
     ]
    },
    {
     "data": {
      "image/png": "[encoded data removed]",
      "text/latex": [
       "$\\displaystyle \\left(\\frac{x}{19} + 11\\right) \\left(\\frac{\\left(x + 9\\right)^{2}}{4} + \\frac{3}{4}\\right) = 0$"
      ],
      "text/plain": [
       "          ⎛       2    ⎞    \n",
       "⎛x      ⎞ ⎜(x + 9)    3⎟    \n",
       "⎜── + 11⎟⋅⎜──────── + ─⎟ = 0\n",
       "⎝19     ⎠ ⎝   4       4⎠    "
      ]
     },
     "metadata": {},
     "output_type": "display_data"
    },
    {
     "data": {
      "image/png": "[encoded data removed]",
      "text/latex": [
       "$\\displaystyle \\left[ -209\\right]$"
      ],
      "text/plain": [
       "[-209]"
      ]
     },
     "metadata": {},
     "output_type": "display_data"
    },
    {
     "name": "stdout",
     "output_type": "stream",
     "text": [
      "――――――――――――――――――――――――――――――\n",
      "\n",
      "difficulty: 84\n"
     ]
    },
    {
     "data": {
      "image/png": "[encoded data removed]",
      "text/latex": [
       "$\\displaystyle x^{2} \\left(x + 14\\right)^{2} \\left(13 x + 65\\right) \\left(\\frac{\\left(x + 36\\right)^{2}}{36} + 5\\right) = 0$"
      ],
      "text/plain": [
       "                         ⎛        2    ⎞    \n",
       " 2         2             ⎜(x + 36)     ⎟    \n",
       "x ⋅(x + 14) ⋅(13⋅x + 65)⋅⎜───────── + 5⎟ = 0\n",
       "                         ⎝    36       ⎠    "
      ]
     },
     "metadata": {},
     "output_type": "display_data"
    },
    {
     "data": {
      "image/png": "[encoded data removed]",
      "text/latex": [
       "$\\displaystyle \\left[ -14, \\  -5, \\  0\\right]$"
      ],
      "text/plain": [
       "[-14, -5, 0]"
      ]
     },
     "metadata": {},
     "output_type": "display_data"
    },
    {
     "name": "stdout",
     "output_type": "stream",
     "text": [
      "――――――――――――――――――――――――――――――\n",
      "\n",
      "difficulty: 8\n"
     ]
    },
    {
     "data": {
      "image/png": "[encoded data removed]",
      "text/latex": [
       "$\\displaystyle \\frac{x^{2}}{\\frac{x}{15} - 18} = 0$"
      ],
      "text/plain": [
       "    2      \n",
       "   x       \n",
       "─────── = 0\n",
       "x          \n",
       "── - 18    \n",
       "15         "
      ]
     },
     "metadata": {},
     "output_type": "display_data"
    },
    {
     "data": {
      "image/png": "[encoded data removed]",
      "text/latex": [
       "$\\displaystyle \\left[ 0\\right]$"
      ],
      "text/plain": [
       "[0]"
      ]
     },
     "metadata": {},
     "output_type": "display_data"
    },
    {
     "name": "stdout",
     "output_type": "stream",
     "text": [
      "――――――――――――――――――――――――――――――\n",
      "\n",
      "difficulty: 1\n"
     ]
    },
    {
     "data": {
      "image/png": "[encoded data removed]",
      "text/latex": [
       "$\\displaystyle \\frac{x}{2} = 49$"
      ],
      "text/plain": [
       "x     \n",
       "─ = 49\n",
       "2     "
      ]
     },
     "metadata": {},
     "output_type": "display_data"
    },
    {
     "data": {
      "image/png": "[encoded data removed]",
      "text/latex": [
       "$\\displaystyle \\left[ 98\\right]$"
      ],
      "text/plain": [
       "[98]"
      ]
     },
     "metadata": {},
     "output_type": "display_data"
    },
    {
     "name": "stdout",
     "output_type": "stream",
     "text": [
      "――――――――――――――――――――――――――――――\n",
      "\n",
      "difficulty: 24\n"
     ]
    },
    {
     "data": {
      "image/png": "[encoded data removed]",
      "text/latex": [
       "$\\displaystyle \\left(\\frac{137 x}{17} + \\frac{295}{17}\\right) \\left(17 x^{2} + 19\\right) = 0$"
      ],
      "text/plain": [
       "⎛137⋅x   295⎞ ⎛    2     ⎞    \n",
       "⎜───── + ───⎟⋅⎝17⋅x  + 19⎠ = 0\n",
       "⎝  17     17⎠                 "
      ]
     },
     "metadata": {},
     "output_type": "display_data"
    },
    {
     "data": {
      "image/png": "[encoded data removed]",
      "text/latex": [
       "$\\displaystyle \\left[ - \\frac{295}{137}\\right]$"
      ],
      "text/plain": [
       "⎡-295 ⎤\n",
       "⎢─────⎥\n",
       "⎣ 137 ⎦"
      ]
     },
     "metadata": {},
     "output_type": "display_data"
    },
    {
     "name": "stdout",
     "output_type": "stream",
     "text": [
      "――――――――――――――――――――――――――――――\n",
      "\n",
      "difficulty: 30\n"
     ]
    },
    {
     "data": {
      "image/png": "[encoded data removed]",
      "text/latex": [
       "$\\displaystyle \\frac{14 x^{2} \\left(20 x - 14\\right)}{17} - \\frac{7 x^{2}}{120} = 0$"
      ],
      "text/plain": [
       "    2                  2    \n",
       "14⋅x ⋅(20⋅x - 14)   7⋅x     \n",
       "───────────────── - ──── = 0\n",
       "        17          120     "
      ]
     },
     "metadata": {},
     "output_type": "display_data"
    },
    {
     "data": {
      "image/png": "[encoded data removed]",
      "text/latex": [
       "$\\displaystyle \\left[ 0, \\  \\frac{3377}{4800}\\right]$"
      ],
      "text/plain": [
       "⎡   3377⎤\n",
       "⎢0, ────⎥\n",
       "⎣   4800⎦"
      ]
     },
     "metadata": {},
     "output_type": "display_data"
    },
    {
     "name": "stdout",
     "output_type": "stream",
     "text": [
      "――――――――――――――――――――――――――――――\n",
      "\n",
      "difficulty: 6\n"
     ]
    },
    {
     "data": {
      "image/png": "[encoded data removed]",
      "text/latex": [
       "$\\displaystyle 507 \\left(x - 1\\right)^{2} = 0$"
      ],
      "text/plain": [
       "           2    \n",
       "507⋅(x - 1)  = 0"
      ]
     },
     "metadata": {},
     "output_type": "display_data"
    },
    {
     "data": {
      "image/png": "[encoded data removed]",
      "text/latex": [
       "$\\displaystyle \\left[ 1\\right]$"
      ],
      "text/plain": [
       "[1]"
      ]
     },
     "metadata": {},
     "output_type": "display_data"
    },
    {
     "name": "stdout",
     "output_type": "stream",
     "text": [
      "――――――――――――――――――――――――――――――\n",
      "\n",
      "difficulty: 24\n"
     ]
    },
    {
     "data": {
      "image/png": "[encoded data removed]",
      "text/latex": [
       "$\\displaystyle \\left(\\frac{x}{6} + \\frac{55}{3}\\right) \\left(\\frac{3 x^{2}}{4} - 1\\right) = 0$"
      ],
      "text/plain": [
       "         ⎛   2    ⎞    \n",
       "⎛x   55⎞ ⎜3⋅x     ⎟    \n",
       "⎜─ + ──⎟⋅⎜──── - 1⎟ = 0\n",
       "⎝6   3 ⎠ ⎝ 4      ⎠    "
      ]
     },
     "metadata": {},
     "output_type": "display_data"
    },
    {
     "data": {
      "image/png": "[encoded data removed]",
      "text/latex": [
       "$\\displaystyle \\left[ -110, \\  - \\frac{2 \\sqrt{3}}{3}, \\  \\frac{2 \\sqrt{3}}{3}\\right]$"
      ],
      "text/plain": [
       "⎡      -2⋅√3   2⋅√3⎤\n",
       "⎢-110, ──────, ────⎥\n",
       "⎣        3      3  ⎦"
      ]
     },
     "metadata": {},
     "output_type": "display_data"
    },
    {
     "name": "stdout",
     "output_type": "stream",
     "text": [
      "――――――――――――――――――――――――――――――\n",
      "\n",
      "difficulty: 21\n"
     ]
    },
    {
     "data": {
      "image/png": "[encoded data removed]",
      "text/latex": [
       "$\\displaystyle \\frac{11 x \\left(x^{2} - \\frac{x}{9} + 17\\right)}{6} = 0$"
      ],
      "text/plain": [
       "     ⎛ 2   x     ⎞    \n",
       "11⋅x⋅⎜x  - ─ + 17⎟    \n",
       "     ⎝     9     ⎠    \n",
       "────────────────── = 0\n",
       "        6             "
      ]
     },
     "metadata": {},
     "output_type": "display_data"
    },
    {
     "data": {
      "image/png": "[encoded data removed]",
      "text/latex": [
       "$\\displaystyle \\left[ 0\\right]$"
      ],
      "text/plain": [
       "[0]"
      ]
     },
     "metadata": {},
     "output_type": "display_data"
    },
    {
     "name": "stdout",
     "output_type": "stream",
     "text": [
      "――――――――――――――――――――――――――――――\n",
      "\n",
      "difficulty: 1\n"
     ]
    },
    {
     "data": {
      "image/png": "[encoded data removed]",
      "text/latex": [
       "$\\displaystyle x + 18 = 96$"
      ],
      "text/plain": [
       "x + 18 = 96"
      ]
     },
     "metadata": {},
     "output_type": "display_data"
    },
    {
     "data": {
      "image/png": "[encoded data removed]",
      "text/latex": [
       "$\\displaystyle \\left[ 78\\right]$"
      ],
      "text/plain": [
       "[78]"
      ]
     },
     "metadata": {},
     "output_type": "display_data"
    },
    {
     "name": "stdout",
     "output_type": "stream",
     "text": [
      "――――――――――――――――――――――――――――――\n",
      "\n",
      "difficulty: 3\n"
     ]
    },
    {
     "data": {
      "image/png": "[encoded data removed]",
      "text/latex": [
       "$\\displaystyle \\frac{7 x}{6} + 4 = \\frac{59}{6}$"
      ],
      "text/plain": [
       "7⋅x           \n",
       "─── + 4 = 59/6\n",
       " 6            "
      ]
     },
     "metadata": {},
     "output_type": "display_data"
    },
    {
     "data": {
      "image/png": "[encoded data removed]",
      "text/latex": [
       "$\\displaystyle \\left[ 5\\right]$"
      ],
      "text/plain": [
       "[5]"
      ]
     },
     "metadata": {},
     "output_type": "display_data"
    },
    {
     "name": "stdout",
     "output_type": "stream",
     "text": [
      "――――――――――――――――――――――――――――――\n",
      "\n",
      "difficulty: 16\n"
     ]
    },
    {
     "data": {
      "image/png": "[encoded data removed]",
      "text/latex": [
       "$\\displaystyle \\frac{\\left(x + 18\\right) \\left(16 x + 72\\right)}{x^{2} \\left(x + 3\\right)} = 0$"
      ],
      "text/plain": [
       "(x + 18)⋅(16⋅x + 72)    \n",
       "──────────────────── = 0\n",
       "      2                 \n",
       "     x ⋅(x + 3)         "
      ]
     },
     "metadata": {},
     "output_type": "display_data"
    },
    {
     "data": {
      "image/png": "[encoded data removed]",
      "text/latex": [
       "$\\displaystyle \\left[ -18, \\  - \\frac{9}{2}\\right]$"
      ],
      "text/plain": [
       "[-18, -9/2]"
      ]
     },
     "metadata": {},
     "output_type": "display_data"
    },
    {
     "name": "stdout",
     "output_type": "stream",
     "text": [
      "――――――――――――――――――――――――――――――\n",
      "\n",
      "difficulty: 4\n"
     ]
    },
    {
     "data": {
      "image/png": "[encoded data removed]",
      "text/latex": [
       "$\\displaystyle \\frac{8 x}{17} + \\frac{12}{17} = \\frac{788}{17}$"
      ],
      "text/plain": [
       "8⋅x   12   788\n",
       "─── + ── = ───\n",
       " 17   17    17"
      ]
     },
     "metadata": {},
     "output_type": "display_data"
    },
    {
     "data": {
      "image/png": "[encoded data removed]",
      "text/latex": [
       "$\\displaystyle \\left[ 97\\right]$"
      ],
      "text/plain": [
       "[97]"
      ]
     },
     "metadata": {},
     "output_type": "display_data"
    },
    {
     "name": "stdout",
     "output_type": "stream",
     "text": [
      "――――――――――――――――――――――――――――――\n",
      "\n",
      "difficulty: 40\n"
     ]
    },
    {
     "data": {
      "image/png": "[encoded data removed]",
      "text/latex": [
       "$\\displaystyle 17 x^{2} - \\frac{x^{2} \\left(2312 x^{2} + 120\\right)}{x + 17} = 0$"
      ],
      "text/plain": [
       "         2 ⎛      2      ⎞    \n",
       "    2   x ⋅⎝2312⋅x  + 120⎠    \n",
       "17⋅x  - ────────────────── = 0\n",
       "              x + 17          "
      ]
     },
     "metadata": {},
     "output_type": "display_data"
    },
    {
     "data": {
      "image/png": "[encoded data removed]",
      "text/latex": [
       "$\\displaystyle \\left[ 0, \\  \\frac{1}{272} - \\frac{3 \\sqrt{601}}{272}, \\  \\frac{1}{272} + \\frac{3 \\sqrt{601}}{272}\\right]$"
      ],
      "text/plain": [
       "⎡    1    3⋅√601   1    3⋅√601⎤\n",
       "⎢0, ─── - ──────, ─── + ──────⎥\n",
       "⎣   272    272    272    272  ⎦"
      ]
     },
     "metadata": {},
     "output_type": "display_data"
    },
    {
     "name": "stdout",
     "output_type": "stream",
     "text": [
      "――――――――――――――――――――――――――――――\n",
      "\n",
      "difficulty: 8\n"
     ]
    },
    {
     "data": {
      "image/png": "[encoded data removed]",
      "text/latex": [
       "$\\displaystyle 9 \\left(x - 15\\right)^{2} + 13 = 454$"
      ],
      "text/plain": [
       "          2           \n",
       "9⋅(x - 15)  + 13 = 454"
      ]
     },
     "metadata": {},
     "output_type": "display_data"
    },
    {
     "data": {
      "image/png": "[encoded data removed]",
      "text/latex": [
       "$\\displaystyle \\left[ 8, \\  22\\right]$"
      ],
      "text/plain": [
       "[8, 22]"
      ]
     },
     "metadata": {},
     "output_type": "display_data"
    },
    {
     "name": "stdout",
     "output_type": "stream",
     "text": [
      "――――――――――――――――――――――――――――――\n",
      "\n",
      "difficulty: 5\n"
     ]
    },
    {
     "data": {
      "image/png": "[encoded data removed]",
      "text/latex": [
       "$\\displaystyle - \\frac{170 x}{19} - \\frac{1317}{19} = - \\frac{14917}{19}$"
      ],
      "text/plain": [
       "  170⋅x   1317   -14917 \n",
       "- ───── - ──── = ───────\n",
       "    19     19       19  "
      ]
     },
     "metadata": {},
     "output_type": "display_data"
    },
    {
     "data": {
      "image/png": "[encoded data removed]",
      "text/latex": [
       "$\\displaystyle \\left[ 80\\right]$"
      ],
      "text/plain": [
       "[80]"
      ]
     },
     "metadata": {},
     "output_type": "display_data"
    },
    {
     "name": "stdout",
     "output_type": "stream",
     "text": [
      "――――――――――――――――――――――――――――――\n",
      "\n",
      "difficulty: 11\n"
     ]
    },
    {
     "data": {
      "image/png": "[encoded data removed]",
      "text/latex": [
       "$\\displaystyle \\frac{16 \\left(\\frac{14 x}{15} - 1\\right)}{\\left(x + 72\\right)^{2} \\left(\\frac{x^{2}}{8} - \\frac{9}{8}\\right)} = 0$"
      ],
      "text/plain": [
       "     ⎛14⋅x    ⎞       \n",
       "  16⋅⎜──── - 1⎟       \n",
       "     ⎝ 15     ⎠       \n",
       "────────────────── = 0\n",
       "          ⎛ 2    ⎞    \n",
       "        2 ⎜x    9⎟    \n",
       "(x + 72) ⋅⎜── - ─⎟    \n",
       "          ⎝8    8⎠    "
      ]
     },
     "metadata": {},
     "output_type": "display_data"
    },
    {
     "data": {
      "image/png": "[encoded data removed]",
      "text/latex": [
       "$\\displaystyle \\left[ \\frac{15}{14}\\right]$"
      ],
      "text/plain": [
       "⎡15⎤\n",
       "⎢──⎥\n",
       "⎣14⎦"
      ]
     },
     "metadata": {},
     "output_type": "display_data"
    },
    {
     "name": "stdout",
     "output_type": "stream",
     "text": [
      "――――――――――――――――――――――――――――――\n",
      "\n",
      "difficulty: 3\n"
     ]
    },
    {
     "data": {
      "image/png": "[encoded data removed]",
      "text/latex": [
       "$\\displaystyle \\frac{5 x}{13} - 5 = \\frac{85}{13}$"
      ],
      "text/plain": [
       "5⋅x       85\n",
       "─── - 5 = ──\n",
       " 13       13"
      ]
     },
     "metadata": {},
     "output_type": "display_data"
    },
    {
     "data": {
      "image/png": "[encoded data removed]",
      "text/latex": [
       "$\\displaystyle \\left[ 30\\right]$"
      ],
      "text/plain": [
       "[30]"
      ]
     },
     "metadata": {},
     "output_type": "display_data"
    },
    {
     "name": "stdout",
     "output_type": "stream",
     "text": [
      "――――――――――――――――――――――――――――――\n",
      "\n",
      "difficulty: 8\n"
     ]
    },
    {
     "data": {
      "image/png": "[encoded data removed]",
      "text/latex": [
       "$\\displaystyle \\frac{x^{2}}{17} + x + 4 = 0$"
      ],
      "text/plain": [
       " 2            \n",
       "x             \n",
       "── + x + 4 = 0\n",
       "17            "
      ]
     },
     "metadata": {},
     "output_type": "display_data"
    },
    {
     "data": {
      "image/png": "[encoded data removed]",
      "text/latex": [
       "$\\displaystyle \\left[ - \\frac{17}{2} - \\frac{\\sqrt{17}}{2}, \\  - \\frac{17}{2} + \\frac{\\sqrt{17}}{2}\\right]$"
      ],
      "text/plain": [
       "⎡  17   √17    17   √17⎤\n",
       "⎢- ── - ───, - ── + ───⎥\n",
       "⎣  2     2     2     2 ⎦"
      ]
     },
     "metadata": {},
     "output_type": "display_data"
    },
    {
     "name": "stdout",
     "output_type": "stream",
     "text": [
      "――――――――――――――――――――――――――――――\n",
      "\n",
      "difficulty: 2\n"
     ]
    },
    {
     "data": {
      "image/png": "[encoded data removed]",
      "text/latex": [
       "$\\displaystyle 27 x + 25 = 2428$"
      ],
      "text/plain": [
       "27⋅x + 25 = 2428"
      ]
     },
     "metadata": {},
     "output_type": "display_data"
    },
    {
     "data": {
      "image/png": "[encoded data removed]",
      "text/latex": [
       "$\\displaystyle \\left[ 89\\right]$"
      ],
      "text/plain": [
       "[89]"
      ]
     },
     "metadata": {},
     "output_type": "display_data"
    },
    {
     "name": "stdout",
     "output_type": "stream",
     "text": [
      "――――――――――――――――――――――――――――――\n",
      "\n",
      "difficulty: 22\n"
     ]
    },
    {
     "data": {
      "image/png": "[encoded data removed]",
      "text/latex": [
       "$\\displaystyle \\frac{\\left(x + 22\\right)^{2}}{\\left(\\frac{x}{56} + \\frac{25}{28}\\right) \\left(\\frac{x^{2}}{18} - \\frac{11}{18}\\right)} = 0$"
      ],
      "text/plain": [
       "             2         \n",
       "     (x + 22)          \n",
       "─────────────────── = 0\n",
       "          ⎛ 2     ⎞    \n",
       "⎛x    25⎞ ⎜x    11⎟    \n",
       "⎜── + ──⎟⋅⎜── - ──⎟    \n",
       "⎝56   28⎠ ⎝18   18⎠    "
      ]
     },
     "metadata": {},
     "output_type": "display_data"
    },
    {
     "data": {
      "image/png": "[encoded data removed]",
      "text/latex": [
       "$\\displaystyle \\left[ -22\\right]$"
      ],
      "text/plain": [
       "[-22]"
      ]
     },
     "metadata": {},
     "output_type": "display_data"
    },
    {
     "name": "stdout",
     "output_type": "stream",
     "text": [
      "――――――――――――――――――――――――――――――\n",
      "\n",
      "difficulty: 27\n"
     ]
    },
    {
     "data": {
      "image/png": "[encoded data removed]",
      "text/latex": [
       "$\\displaystyle \\frac{\\left(\\frac{10 x}{7} - 11\\right) \\left(x^{2} - 17\\right)}{5 x + 1} = 0$"
      ],
      "text/plain": [
       "⎛10⋅x     ⎞ ⎛ 2     ⎞    \n",
       "⎜──── - 11⎟⋅⎝x  - 17⎠    \n",
       "⎝ 7       ⎠              \n",
       "───────────────────── = 0\n",
       "       5⋅x + 1           "
      ]
     },
     "metadata": {},
     "output_type": "display_data"
    },
    {
     "data": {
      "image/png": "[encoded data removed]",
      "text/latex": [
       "$\\displaystyle \\left[ \\frac{77}{10}, \\  - \\sqrt{17}, \\  \\sqrt{17}\\right]$"
      ],
      "text/plain": [
       "⎡77           ⎤\n",
       "⎢──, -√17, √17⎥\n",
       "⎣10           ⎦"
      ]
     },
     "metadata": {},
     "output_type": "display_data"
    },
    {
     "name": "stdout",
     "output_type": "stream",
     "text": [
      "――――――――――――――――――――――――――――――\n",
      "\n",
      "difficulty: 21\n"
     ]
    },
    {
     "data": {
      "image/png": "[encoded data removed]",
      "text/latex": [
       "$\\displaystyle \\left(\\frac{x}{15} - \\frac{3}{5}\\right) \\left(\\frac{x^{2}}{1539} - 1\\right) = 0$"
      ],
      "text/plain": [
       "         ⎛  2     ⎞    \n",
       "⎛x    3⎞ ⎜ x      ⎟    \n",
       "⎜── - ─⎟⋅⎜──── - 1⎟ = 0\n",
       "⎝15   5⎠ ⎝1539    ⎠    "
      ]
     },
     "metadata": {},
     "output_type": "display_data"
    },
    {
     "data": {
      "image/png": "[encoded data removed]",
      "text/latex": [
       "$\\displaystyle \\left[ 9, \\  - 9 \\sqrt{19}, \\  9 \\sqrt{19}\\right]$"
      ],
      "text/plain": [
       "[9, -9⋅√19, 9⋅√19]"
      ]
     },
     "metadata": {},
     "output_type": "display_data"
    },
    {
     "name": "stdout",
     "output_type": "stream",
     "text": [
      "――――――――――――――――――――――――――――――\n",
      "\n",
      "difficulty: 10\n"
     ]
    },
    {
     "data": {
      "image/png": "[encoded data removed]",
      "text/latex": [
       "$\\displaystyle - \\frac{x^{2}}{14} + x - \\frac{3}{14} = 0$"
      ],
      "text/plain": [
       "   2             \n",
       "  x        3     \n",
       "- ── + x - ── = 0\n",
       "  14       14    "
      ]
     },
     "metadata": {},
     "output_type": "display_data"
    },
    {
     "data": {
      "image/png": "[encoded data removed]",
      "text/latex": [
       "$\\displaystyle \\left[ 7 - \\sqrt{46}, \\  \\sqrt{46} + 7\\right]$"
      ],
      "text/plain": [
       "[7 - √46, √46 + 7]"
      ]
     },
     "metadata": {},
     "output_type": "display_data"
    },
    {
     "name": "stdout",
     "output_type": "stream",
     "text": [
      "――――――――――――――――――――――――――――――\n",
      "\n",
      "difficulty: 1\n"
     ]
    },
    {
     "data": {
      "image/png": "[encoded data removed]",
      "text/latex": [
       "$\\displaystyle 12 x = 156$"
      ],
      "text/plain": [
       "12⋅x = 156"
      ]
     },
     "metadata": {},
     "output_type": "display_data"
    },
    {
     "data": {
      "image/png": "[encoded data removed]",
      "text/latex": [
       "$\\displaystyle \\left[ 13\\right]$"
      ],
      "text/plain": [
       "[13]"
      ]
     },
     "metadata": {},
     "output_type": "display_data"
    },
    {
     "name": "stdout",
     "output_type": "stream",
     "text": [
      "――――――――――――――――――――――――――――――\n",
      "\n",
      "difficulty: 4\n"
     ]
    },
    {
     "data": {
      "image/png": "[encoded data removed]",
      "text/latex": [
       "$\\displaystyle \\frac{19 x}{20} + \\frac{33}{10} = \\frac{1073}{20}$"
      ],
      "text/plain": [
       "19⋅x   33   1073\n",
       "──── + ── = ────\n",
       " 20    10    20 "
      ]
     },
     "metadata": {},
     "output_type": "display_data"
    },
    {
     "data": {
      "image/png": "[encoded data removed]",
      "text/latex": [
       "$\\displaystyle \\left[ 53\\right]$"
      ],
      "text/plain": [
       "[53]"
      ]
     },
     "metadata": {},
     "output_type": "display_data"
    },
    {
     "name": "stdout",
     "output_type": "stream",
     "text": [
      "――――――――――――――――――――――――――――――\n",
      "\n",
      "difficulty: 3\n"
     ]
    },
    {
     "data": {
      "image/png": "[encoded data removed]",
      "text/latex": [
       "$\\displaystyle \\frac{40 x}{3} - 117 = \\frac{649}{3}$"
      ],
      "text/plain": [
       "40⋅x              \n",
       "──── - 117 = 649/3\n",
       " 3                "
      ]
     },
     "metadata": {},
     "output_type": "display_data"
    },
    {
     "data": {
      "image/png": "[encoded data removed]",
      "text/latex": [
       "$\\displaystyle \\left[ 25\\right]$"
      ],
      "text/plain": [
       "[25]"
      ]
     },
     "metadata": {},
     "output_type": "display_data"
    },
    {
     "name": "stdout",
     "output_type": "stream",
     "text": [
      "――――――――――――――――――――――――――――――\n",
      "\n",
      "difficulty: 12\n"
     ]
    },
    {
     "data": {
      "image/png": "[encoded data removed]",
      "text/latex": [
       "$\\displaystyle \\frac{4 x^{2}}{13 \\left(3 - \\frac{2 x}{255}\\right)} = 0$"
      ],
      "text/plain": [
       "       2        \n",
       "    4⋅x         \n",
       "──────────── = 0\n",
       "   ⎛    2⋅x⎞    \n",
       "13⋅⎜3 - ───⎟    \n",
       "   ⎝    255⎠    "
      ]
     },
     "metadata": {},
     "output_type": "display_data"
    },
    {
     "data": {
      "image/png": "[encoded data removed]",
      "text/latex": [
       "$\\displaystyle \\left[ 0\\right]$"
      ],
      "text/plain": [
       "[0]"
      ]
     },
     "metadata": {},
     "output_type": "display_data"
    },
    {
     "name": "stdout",
     "output_type": "stream",
     "text": [
      "――――――――――――――――――――――――――――――\n",
      "\n",
      "difficulty: 27\n"
     ]
    },
    {
     "data": {
      "image/png": "[encoded data removed]",
      "text/latex": [
       "$\\displaystyle \\frac{x \\left(5 x^{2} - 5\\right)}{3 \\left(\\frac{7 x}{4} - \\frac{73}{4}\\right)} = 0$"
      ],
      "text/plain": [
       "  ⎛   2    ⎞    \n",
       "x⋅⎝5⋅x  - 5⎠    \n",
       "──────────── = 0\n",
       "  ⎛7⋅x   73⎞    \n",
       "3⋅⎜─── - ──⎟    \n",
       "  ⎝ 4    4 ⎠    "
      ]
     },
     "metadata": {},
     "output_type": "display_data"
    },
    {
     "data": {
      "image/png": "[encoded data removed]",
      "text/latex": [
       "$\\displaystyle \\left[ -1, \\  0, \\  1\\right]$"
      ],
      "text/plain": [
       "[-1, 0, 1]"
      ]
     },
     "metadata": {},
     "output_type": "display_data"
    },
    {
     "name": "stdout",
     "output_type": "stream",
     "text": [
      "――――――――――――――――――――――――――――――\n",
      "\n",
      "difficulty: 12\n"
     ]
    },
    {
     "data": {
      "image/png": "[encoded data removed]",
      "text/latex": [
       "$\\displaystyle \\frac{\\frac{331 x}{360} + \\frac{63}{4}}{x^{2}} = 0$"
      ],
      "text/plain": [
       "331⋅x   63    \n",
       "───── + ──    \n",
       " 360    4     \n",
       "────────── = 0\n",
       "     2        \n",
       "    x         "
      ]
     },
     "metadata": {},
     "output_type": "display_data"
    },
    {
     "data": {
      "image/png": "[encoded data removed]",
      "text/latex": [
       "$\\displaystyle \\left[ - \\frac{5670}{331}\\right]$"
      ],
      "text/plain": [
       "⎡-5670 ⎤\n",
       "⎢──────⎥\n",
       "⎣ 331  ⎦"
      ]
     },
     "metadata": {},
     "output_type": "display_data"
    },
    {
     "name": "stdout",
     "output_type": "stream",
     "text": [
      "――――――――――――――――――――――――――――――\n",
      "\n",
      "difficulty: 27\n"
     ]
    },
    {
     "data": {
      "image/png": "[encoded data removed]",
      "text/latex": [
       "$\\displaystyle \\left(\\frac{x}{16} - \\frac{9}{16}\\right) \\left(\\frac{13 x^{2}}{8} - \\frac{1}{2}\\right) = 0$"
      ],
      "text/plain": [
       "          ⎛    2    ⎞    \n",
       "⎛x    9 ⎞ ⎜13⋅x    1⎟    \n",
       "⎜── - ──⎟⋅⎜───── - ─⎟ = 0\n",
       "⎝16   16⎠ ⎝  8     2⎠    "
      ]
     },
     "metadata": {},
     "output_type": "display_data"
    },
    {
     "data": {
      "image/png": "[encoded data removed]",
      "text/latex": [
       "$\\displaystyle \\left[ 9, \\  - \\frac{2 \\sqrt{13}}{13}, \\  \\frac{2 \\sqrt{13}}{13}\\right]$"
      ],
      "text/plain": [
       "⎡   -2⋅√13   2⋅√13⎤\n",
       "⎢9, ───────, ─────⎥\n",
       "⎣      13      13 ⎦"
      ]
     },
     "metadata": {},
     "output_type": "display_data"
    },
    {
     "name": "stdout",
     "output_type": "stream",
     "text": [
      "――――――――――――――――――――――――――――――\n",
      "\n",
      "difficulty: 12\n"
     ]
    },
    {
     "data": {
      "image/png": "[encoded data removed]",
      "text/latex": [
       "$\\displaystyle \\frac{\\left(x + 2\\right)^{2}}{\\frac{8 x}{5} - 9} = 0$"
      ],
      "text/plain": [
       "       2    \n",
       "(x + 2)     \n",
       "──────── = 0\n",
       "8⋅x         \n",
       "─── - 9     \n",
       " 5          "
      ]
     },
     "metadata": {},
     "output_type": "display_data"
    },
    {
     "data": {
      "image/png": "[encoded data removed]",
      "text/latex": [
       "$\\displaystyle \\left[ -2\\right]$"
      ],
      "text/plain": [
       "[-2]"
      ]
     },
     "metadata": {},
     "output_type": "display_data"
    },
    {
     "name": "stdout",
     "output_type": "stream",
     "text": [
      "――――――――――――――――――――――――――――――\n",
      "\n",
      "difficulty: 20\n"
     ]
    },
    {
     "data": {
      "image/png": "[encoded data removed]",
      "text/latex": [
       "$\\displaystyle \\frac{56 x}{3} - \\left(x - 4\\right)^{2} + \\frac{\\left(x + 16\\right)^{2}}{256} + 167 = 0$"
      ],
      "text/plain": [
       "                          2          \n",
       "56⋅x          2   (x + 16)           \n",
       "──── - (x - 4)  + ───────── + 167 = 0\n",
       " 3                   256             "
      ]
     },
     "metadata": {},
     "output_type": "display_data"
    },
    {
     "data": {
      "image/png": "[encoded data removed]",
      "text/latex": [
       "$\\displaystyle \\left[ \\frac{10288}{765} - \\frac{368 \\sqrt{1441}}{765}, \\  \\frac{10288}{765} + \\frac{368 \\sqrt{1441}}{765}\\right]$"
      ],
      "text/plain": [
       "⎡10288   368⋅√1441  10288   368⋅√1441⎤\n",
       "⎢───── - ─────────, ───── + ─────────⎥\n",
       "⎣ 765       765      765       765   ⎦"
      ]
     },
     "metadata": {},
     "output_type": "display_data"
    },
    {
     "name": "stdout",
     "output_type": "stream",
     "text": [
      "――――――――――――――――――――――――――――――\n",
      "\n",
      "difficulty: 1\n"
     ]
    },
    {
     "data": {
      "image/png": "[encoded data removed]",
      "text/latex": [
       "$\\displaystyle x - 9 = 38$"
      ],
      "text/plain": [
       "x - 9 = 38"
      ]
     },
     "metadata": {},
     "output_type": "display_data"
    },
    {
     "data": {
      "image/png": "[encoded data removed]",
      "text/latex": [
       "$\\displaystyle \\left[ 47\\right]$"
      ],
      "text/plain": [
       "[47]"
      ]
     },
     "metadata": {},
     "output_type": "display_data"
    },
    {
     "name": "stdout",
     "output_type": "stream",
     "text": [
      "――――――――――――――――――――――――――――――\n",
      "\n",
      "difficulty: 70\n"
     ]
    },
    {
     "data": {
      "image/png": "[encoded data removed]",
      "text/latex": [
       "$\\displaystyle \\frac{\\left(x - 1\\right)^{2} \\left(\\frac{11 x}{7} - \\frac{15}{7}\\right) \\left(x^{2} - 2\\right)}{13 \\left(\\frac{x^{2}}{4212} + \\frac{1}{13}\\right)} = 0$"
      ],
      "text/plain": [
       "       2 ⎛11⋅x   15⎞ ⎛ 2    ⎞    \n",
       "(x - 1) ⋅⎜──── - ──⎟⋅⎝x  - 2⎠    \n",
       "         ⎝ 7     7 ⎠             \n",
       "───────────────────────────── = 0\n",
       "           ⎛  2      ⎞           \n",
       "           ⎜ x     1 ⎟           \n",
       "        13⋅⎜──── + ──⎟           \n",
       "           ⎝4212   13⎠           "
      ]
     },
     "metadata": {},
     "output_type": "display_data"
    },
    {
     "data": {
      "image/png": "[encoded data removed]",
      "text/latex": [
       "$\\displaystyle \\left[ 1, \\  \\frac{15}{11}, \\  - \\sqrt{2}, \\  \\sqrt{2}\\right]$"
      ],
      "text/plain": [
       "⎡   15         ⎤\n",
       "⎢1, ──, -√2, √2⎥\n",
       "⎣   11         ⎦"
      ]
     },
     "metadata": {},
     "output_type": "display_data"
    },
    {
     "name": "stdout",
     "output_type": "stream",
     "text": [
      "――――――――――――――――――――――――――――――\n",
      "\n",
      "difficulty: 6\n"
     ]
    },
    {
     "data": {
      "image/png": "[encoded data removed]",
      "text/latex": [
       "$\\displaystyle \\frac{686 x^{2}}{1539} = 0$"
      ],
      "text/plain": [
       "     2    \n",
       "686⋅x     \n",
       "────── = 0\n",
       " 1539     "
      ]
     },
     "metadata": {},
     "output_type": "display_data"
    },
    {
     "data": {
      "image/png": "[encoded data removed]",
      "text/latex": [
       "$\\displaystyle \\left[ 0\\right]$"
      ],
      "text/plain": [
       "[0]"
      ]
     },
     "metadata": {},
     "output_type": "display_data"
    },
    {
     "name": "stdout",
     "output_type": "stream",
     "text": [
      "――――――――――――――――――――――――――――――\n",
      "\n",
      "difficulty: 55\n"
     ]
    },
    {
     "data": {
      "image/png": "[encoded data removed]",
      "text/latex": [
       "$\\displaystyle \\frac{\\left(x - 13\\right)^{2} \\left(- \\frac{49 x^{2} \\left(x + 16\\right)}{16} + 4 x\\right)}{4} = 0$"
      ],
      "text/plain": [
       "          ⎛      2               ⎞    \n",
       "        2 ⎜  49⋅x ⋅(x + 16)      ⎟    \n",
       "(x - 13) ⋅⎜- ────────────── + 4⋅x⎟    \n",
       "          ⎝        16            ⎠    \n",
       "────────────────────────────────── = 0\n",
       "                4                     "
      ]
     },
     "metadata": {},
     "output_type": "display_data"
    },
    {
     "data": {
      "image/png": "[encoded data removed]",
      "text/latex": [
       "$\\displaystyle \\left[ 0, \\  13, \\  -8 + \\frac{40 \\sqrt{2}}{7}, \\  - \\frac{40 \\sqrt{2}}{7} - 8\\right]$"
      ],
      "text/plain": [
       "⎡            40⋅√2    40⋅√2    ⎤\n",
       "⎢0, 13, -8 + ─────, - ───── - 8⎥\n",
       "⎣              7        7      ⎦"
      ]
     },
     "metadata": {},
     "output_type": "display_data"
    },
    {
     "name": "stdout",
     "output_type": "stream",
     "text": [
      "――――――――――――――――――――――――――――――\n",
      "\n",
      "difficulty: 3\n"
     ]
    },
    {
     "data": {
      "image/png": "[encoded data removed]",
      "text/latex": [
       "$\\displaystyle \\frac{x}{3} - \\frac{1}{3} = 0$"
      ],
      "text/plain": [
       "x   1    \n",
       "─ - ─ = 0\n",
       "3   3    "
      ]
     },
     "metadata": {},
     "output_type": "display_data"
    },
    {
     "data": {
      "image/png": "[encoded data removed]",
      "text/latex": [
       "$\\displaystyle \\left[ 1\\right]$"
      ],
      "text/plain": [
       "[1]"
      ]
     },
     "metadata": {},
     "output_type": "display_data"
    },
    {
     "name": "stdout",
     "output_type": "stream",
     "text": [
      "――――――――――――――――――――――――――――――\n",
      "\n",
      "difficulty: 8\n"
     ]
    },
    {
     "data": {
      "image/png": "[encoded data removed]",
      "text/latex": [
       "$\\displaystyle \\frac{19 \\left(x + 3\\right)}{3 x \\left(\\frac{17 x}{5} + 17\\right)} = 0$"
      ],
      "text/plain": [
       "   19⋅(x + 3)      \n",
       "─────────────── = 0\n",
       "    ⎛17⋅x     ⎞    \n",
       "3⋅x⋅⎜──── + 17⎟    \n",
       "    ⎝ 5       ⎠    "
      ]
     },
     "metadata": {},
     "output_type": "display_data"
    },
    {
     "data": {
      "image/png": "[encoded data removed]",
      "text/latex": [
       "$\\displaystyle \\left[ -3\\right]$"
      ],
      "text/plain": [
       "[-3]"
      ]
     },
     "metadata": {},
     "output_type": "display_data"
    },
    {
     "name": "stdout",
     "output_type": "stream",
     "text": [
      "――――――――――――――――――――――――――――――\n",
      "\n",
      "difficulty: 4\n"
     ]
    },
    {
     "data": {
      "image/png": "[encoded data removed]",
      "text/latex": [
       "$\\displaystyle \\left(x - 3\\right)^{2} = 0$"
      ],
      "text/plain": [
       "       2    \n",
       "(x - 3)  = 0"
      ]
     },
     "metadata": {},
     "output_type": "display_data"
    },
    {
     "data": {
      "image/png": "[encoded data removed]",
      "text/latex": [
       "$\\displaystyle \\left[ 3\\right]$"
      ],
      "text/plain": [
       "[3]"
      ]
     },
     "metadata": {},
     "output_type": "display_data"
    },
    {
     "name": "stdout",
     "output_type": "stream",
     "text": [
      "――――――――――――――――――――――――――――――\n",
      "\n",
      "difficulty: 2\n"
     ]
    },
    {
     "data": {
      "image/png": "[encoded data removed]",
      "text/latex": [
       "$\\displaystyle x + \\frac{325}{54} = \\frac{3025}{54}$"
      ],
      "text/plain": [
       "    325   3025\n",
       "x + ─── = ────\n",
       "     54    54 "
      ]
     },
     "metadata": {},
     "output_type": "display_data"
    },
    {
     "data": {
      "image/png": "[encoded data removed]",
      "text/latex": [
       "$\\displaystyle \\left[ 50\\right]$"
      ],
      "text/plain": [
       "[50]"
      ]
     },
     "metadata": {},
     "output_type": "display_data"
    },
    {
     "name": "stdout",
     "output_type": "stream",
     "text": [
      "――――――――――――――――――――――――――――――\n",
      "\n",
      "difficulty: 42\n"
     ]
    },
    {
     "data": {
      "image/png": "[encoded data removed]",
      "text/latex": [
       "$\\displaystyle x^{4} \\left(\\frac{7 x^{2}}{17} + x + 25\\right) = 0$"
      ],
      "text/plain": [
       "   ⎛   2         ⎞    \n",
       " 4 ⎜7⋅x          ⎟    \n",
       "x ⋅⎜──── + x + 25⎟ = 0\n",
       "   ⎝ 17          ⎠    "
      ]
     },
     "metadata": {},
     "output_type": "display_data"
    },
    {
     "data": {
      "image/png": "[encoded data removed]",
      "text/latex": [
       "$\\displaystyle \\left[ 0\\right]$"
      ],
      "text/plain": [
       "[0]"
      ]
     },
     "metadata": {},
     "output_type": "display_data"
    },
    {
     "name": "stdout",
     "output_type": "stream",
     "text": [
      "――――――――――――――――――――――――――――――\n",
      "\n",
      "difficulty: 22\n"
     ]
    },
    {
     "data": {
      "image/png": "[encoded data removed]",
      "text/latex": [
       "$\\displaystyle \\frac{x^{2} - 3}{\\frac{11 x}{10} + \\frac{\\left(x - 57\\right)^{2}}{361} + \\frac{6}{5}} = 0$"
      ],
      "text/plain": [
       "        2               \n",
       "       x  - 3           \n",
       "──────────────────── = 0\n",
       "               2        \n",
       "11⋅x   (x - 57)    6    \n",
       "──── + ───────── + ─    \n",
       " 10       361      5    "
      ]
     },
     "metadata": {},
     "output_type": "display_data"
    },
    {
     "data": {
      "image/png": "[encoded data removed]",
      "text/latex": [
       "$\\displaystyle \\left[ - \\sqrt{3}, \\  \\sqrt{3}\\right]$"
      ],
      "text/plain": [
       "[-√3, √3]"
      ]
     },
     "metadata": {},
     "output_type": "display_data"
    },
    {
     "name": "stdout",
     "output_type": "stream",
     "text": [
      "――――――――――――――――――――――――――――――\n",
      "\n",
      "difficulty: 1\n"
     ]
    },
    {
     "data": {
      "image/png": "[encoded data removed]",
      "text/latex": [
       "$\\displaystyle x - 6 = 33$"
      ],
      "text/plain": [
       "x - 6 = 33"
      ]
     },
     "metadata": {},
     "output_type": "display_data"
    },
    {
     "data": {
      "image/png": "[encoded data removed]",
      "text/latex": [
       "$\\displaystyle \\left[ 39\\right]$"
      ],
      "text/plain": [
       "[39]"
      ]
     },
     "metadata": {},
     "output_type": "display_data"
    },
    {
     "name": "stdout",
     "output_type": "stream",
     "text": [
      "――――――――――――――――――――――――――――――\n",
      "\n",
      "difficulty: 7\n"
     ]
    },
    {
     "data": {
      "image/png": "[encoded data removed]",
      "text/latex": [
       "$\\displaystyle \\frac{190 x}{13 x^{2} + 18 x - 262} = 0$"
      ],
      "text/plain": [
       "      190⋅x           \n",
       "────────────────── = 0\n",
       "    2                 \n",
       "13⋅x  + 18⋅x - 262    "
      ]
     },
     "metadata": {},
     "output_type": "display_data"
    },
    {
     "data": {
      "image/png": "[encoded data removed]",
      "text/latex": [
       "$\\displaystyle \\left[ 0\\right]$"
      ],
      "text/plain": [
       "[0]"
      ]
     },
     "metadata": {},
     "output_type": "display_data"
    },
    {
     "name": "stdout",
     "output_type": "stream",
     "text": [
      "――――――――――――――――――――――――――――――\n",
      "\n",
      "difficulty: 18\n"
     ]
    },
    {
     "data": {
      "image/png": "[encoded data removed]",
      "text/latex": [
       "$\\displaystyle \\left(x - 12\\right) \\left(x - \\left(x + 5\\right)^{2} + 5\\right) = 0$"
      ],
      "text/plain": [
       "         ⎛           2    ⎞    \n",
       "(x - 12)⋅⎝x - (x + 5)  + 5⎠ = 0"
      ]
     },
     "metadata": {},
     "output_type": "display_data"
    },
    {
     "data": {
      "image/png": "[encoded data removed]",
      "text/latex": [
       "$\\displaystyle \\left[ -5, \\  -4, \\  12\\right]$"
      ],
      "text/plain": [
       "[-5, -4, 12]"
      ]
     },
     "metadata": {},
     "output_type": "display_data"
    },
    {
     "name": "stdout",
     "output_type": "stream",
     "text": [
      "――――――――――――――――――――――――――――――\n",
      "\n",
      "difficulty: 4\n"
     ]
    },
    {
     "data": {
      "image/png": "[encoded data removed]",
      "text/latex": [
       "$\\displaystyle \\frac{x}{9 \\left(2 x^{2} + 25\\right)} = 0$"
      ],
      "text/plain": [
       "      x          \n",
       "───────────── = 0\n",
       "  ⎛   2     ⎞    \n",
       "9⋅⎝2⋅x  + 25⎠    "
      ]
     },
     "metadata": {},
     "output_type": "display_data"
    },
    {
     "data": {
      "image/png": "[encoded data removed]",
      "text/latex": [
       "$\\displaystyle \\left[ 0\\right]$"
      ],
      "text/plain": [
       "[0]"
      ]
     },
     "metadata": {},
     "output_type": "display_data"
    },
    {
     "name": "stdout",
     "output_type": "stream",
     "text": [
      "――――――――――――――――――――――――――――――\n",
      "\n",
      "difficulty: 21\n"
     ]
    },
    {
     "data": {
      "image/png": "[encoded data removed]",
      "text/latex": [
       "$\\displaystyle - x^{2} \\left(15 x - 14\\right) + 2 x^{2} = 0$"
      ],
      "text/plain": [
       "   2                  2    \n",
       "- x ⋅(15⋅x - 14) + 2⋅x  = 0"
      ]
     },
     "metadata": {},
     "output_type": "display_data"
    },
    {
     "data": {
      "image/png": "[encoded data removed]",
      "text/latex": [
       "$\\displaystyle \\left[ 0, \\  \\frac{16}{15}\\right]$"
      ],
      "text/plain": [
       "⎡   16⎤\n",
       "⎢0, ──⎥\n",
       "⎣   15⎦"
      ]
     },
     "metadata": {},
     "output_type": "display_data"
    },
    {
     "name": "stdout",
     "output_type": "stream",
     "text": [
      "――――――――――――――――――――――――――――――\n",
      "\n",
      "difficulty: 6\n"
     ]
    },
    {
     "data": {
      "image/png": "[encoded data removed]",
      "text/latex": [
       "$\\displaystyle \\frac{x \\left(x + 17\\right)}{14} = 0$"
      ],
      "text/plain": [
       "x⋅(x + 17)    \n",
       "────────── = 0\n",
       "    14        "
      ]
     },
     "metadata": {},
     "output_type": "display_data"
    },
    {
     "data": {
      "image/png": "[encoded data removed]",
      "text/latex": [
       "$\\displaystyle \\left[ -17, \\  0\\right]$"
      ],
      "text/plain": [
       "[-17, 0]"
      ]
     },
     "metadata": {},
     "output_type": "display_data"
    },
    {
     "name": "stdout",
     "output_type": "stream",
     "text": [
      "――――――――――――――――――――――――――――――\n",
      "\n",
      "difficulty: 10\n"
     ]
    },
    {
     "data": {
      "image/png": "[encoded data removed]",
      "text/latex": [
       "$\\displaystyle \\frac{x^{2}}{\\left(x + 18\\right)^{2} - 11} = 0$"
      ],
      "text/plain": [
       "       2          \n",
       "      x           \n",
       "────────────── = 0\n",
       "        2         \n",
       "(x + 18)  - 11    "
      ]
     },
     "metadata": {},
     "output_type": "display_data"
    },
    {
     "data": {
      "image/png": "[encoded data removed]",
      "text/latex": [
       "$\\displaystyle \\left[ 0\\right]$"
      ],
      "text/plain": [
       "[0]"
      ]
     },
     "metadata": {},
     "output_type": "display_data"
    },
    {
     "name": "stdout",
     "output_type": "stream",
     "text": [
      "――――――――――――――――――――――――――――――\n",
      "\n",
      "difficulty: 28\n"
     ]
    },
    {
     "data": {
      "image/png": "[encoded data removed]",
      "text/latex": [
       "$\\displaystyle \\frac{3 \\left(x - 15\\right)^{2} - 16}{x^{2} - \\left(\\frac{x}{9} - \\frac{4}{9}\\right) \\left(\\frac{x^{2}}{8} - 5\\right)} = 0$"
      ],
      "text/plain": [
       "             2           \n",
       "   3⋅(x - 15)  - 16      \n",
       "───────────────────── = 0\n",
       "             ⎛ 2    ⎞    \n",
       " 2   ⎛x   4⎞ ⎜x     ⎟    \n",
       "x  - ⎜─ - ─⎟⋅⎜── - 5⎟    \n",
       "     ⎝9   9⎠ ⎝8     ⎠    "
      ]
     },
     "metadata": {},
     "output_type": "display_data"
    },
    {
     "data": {
      "image/png": "[encoded data removed]",
      "text/latex": [
       "$\\displaystyle \\left[ 15 - \\frac{4 \\sqrt{3}}{3}, \\  \\frac{4 \\sqrt{3}}{3} + 15\\right]$"
      ],
      "text/plain": [
       "⎡     4⋅√3  4⋅√3     ⎤\n",
       "⎢15 - ────, ──── + 15⎥\n",
       "⎣      3     3       ⎦"
      ]
     },
     "metadata": {},
     "output_type": "display_data"
    },
    {
     "name": "stdout",
     "output_type": "stream",
     "text": [
      "――――――――――――――――――――――――――――――\n",
      "\n",
      "difficulty: 30\n"
     ]
    },
    {
     "data": {
      "image/png": "[encoded data removed]",
      "text/latex": [
       "$\\displaystyle \\frac{7 x^{2} \\left(\\frac{x}{8} + \\frac{13}{8}\\right)}{4 \\left(18 x^{2} + 4\\right)} = 0$"
      ],
      "text/plain": [
       "   2 ⎛x   13⎞    \n",
       "7⋅x ⋅⎜─ + ──⎟    \n",
       "     ⎝8   8 ⎠    \n",
       "───────────── = 0\n",
       "  ⎛    2    ⎞    \n",
       "4⋅⎝18⋅x  + 4⎠    "
      ]
     },
     "metadata": {},
     "output_type": "display_data"
    },
    {
     "data": {
      "image/png": "[encoded data removed]",
      "text/latex": [
       "$\\displaystyle \\left[ -13, \\  0\\right]$"
      ],
      "text/plain": [
       "[-13, 0]"
      ]
     },
     "metadata": {},
     "output_type": "display_data"
    },
    {
     "name": "stdout",
     "output_type": "stream",
     "text": [
      "――――――――――――――――――――――――――――――\n",
      "\n",
      "difficulty: 6\n"
     ]
    },
    {
     "data": {
      "image/png": "[encoded data removed]",
      "text/latex": [
       "$\\displaystyle \\frac{x^{2}}{17} - 10 = 0$"
      ],
      "text/plain": [
       " 2         \n",
       "x          \n",
       "── - 10 = 0\n",
       "17         "
      ]
     },
     "metadata": {},
     "output_type": "display_data"
    },
    {
     "data": {
      "image/png": "[encoded data removed]",
      "text/latex": [
       "$\\displaystyle \\left[ - \\sqrt{170}, \\  \\sqrt{170}\\right]$"
      ],
      "text/plain": [
       "[-√170, √170]"
      ]
     },
     "metadata": {},
     "output_type": "display_data"
    },
    {
     "name": "stdout",
     "output_type": "stream",
     "text": [
      "――――――――――――――――――――――――――――――\n",
      "\n",
      "difficulty: 1\n"
     ]
    },
    {
     "data": {
      "image/png": "[encoded data removed]",
      "text/latex": [
       "$\\displaystyle x + 12 = 14$"
      ],
      "text/plain": [
       "x + 12 = 14"
      ]
     },
     "metadata": {},
     "output_type": "display_data"
    },
    {
     "data": {
      "image/png": "[encoded data removed]",
      "text/latex": [
       "$\\displaystyle \\left[ 2\\right]$"
      ],
      "text/plain": [
       "[2]"
      ]
     },
     "metadata": {},
     "output_type": "display_data"
    },
    {
     "name": "stdout",
     "output_type": "stream",
     "text": [
      "――――――――――――――――――――――――――――――\n",
      "\n",
      "difficulty: 32\n"
     ]
    },
    {
     "data": {
      "image/png": "[encoded data removed]",
      "text/latex": [
       "$\\displaystyle \\left(x + 17\\right) \\left(4 x + 12\\right) \\left(6 x^{2} + 24\\right) = 0$"
      ],
      "text/plain": [
       "                    ⎛   2     ⎞    \n",
       "(x + 17)⋅(4⋅x + 12)⋅⎝6⋅x  + 24⎠ = 0"
      ]
     },
     "metadata": {},
     "output_type": "display_data"
    },
    {
     "data": {
      "image/png": "[encoded data removed]",
      "text/latex": [
       "$\\displaystyle \\left[ -17, \\  -3\\right]$"
      ],
      "text/plain": [
       "[-17, -3]"
      ]
     },
     "metadata": {},
     "output_type": "display_data"
    },
    {
     "name": "stdout",
     "output_type": "stream",
     "text": [
      "――――――――――――――――――――――――――――――\n",
      "\n",
      "difficulty: 4\n"
     ]
    },
    {
     "data": {
      "image/png": "[encoded data removed]",
      "text/latex": [
       "$\\displaystyle \\frac{1091}{9} - \\frac{47 x}{6} = - \\frac{3881}{18}$"
      ],
      "text/plain": [
       "1091   47⋅x   -3881 \n",
       "──── - ──── = ──────\n",
       " 9      6       18  "
      ]
     },
     "metadata": {},
     "output_type": "display_data"
    },
    {
     "data": {
      "image/png": "[encoded data removed]",
      "text/latex": [
       "$\\displaystyle \\left[ 43\\right]$"
      ],
      "text/plain": [
       "[43]"
      ]
     },
     "metadata": {},
     "output_type": "display_data"
    },
    {
     "name": "stdout",
     "output_type": "stream",
     "text": [
      "――――――――――――――――――――――――――――――\n",
      "\n",
      "difficulty: 12\n"
     ]
    },
    {
     "data": {
      "image/png": "[encoded data removed]",
      "text/latex": [
       "$\\displaystyle \\frac{x - 3}{- 6 x^{2} + \\frac{\\frac{x}{2} - 5}{\\frac{x^{2}}{15} - 8} - 36} = 0$"
      ],
      "text/plain": [
       "       x - 3            \n",
       "──────────────────── = 0\n",
       "         x              \n",
       "         ─ - 5          \n",
       "     2   2              \n",
       "- 6⋅x  + ────── - 36    \n",
       "          2             \n",
       "         x              \n",
       "         ── - 8         \n",
       "         15             "
      ]
     },
     "metadata": {},
     "output_type": "display_data"
    },
    {
     "data": {
      "image/png": "[encoded data removed]",
      "text/latex": [
       "$\\displaystyle \\left[ 3\\right]$"
      ],
      "text/plain": [
       "[3]"
      ]
     },
     "metadata": {},
     "output_type": "display_data"
    },
    {
     "name": "stdout",
     "output_type": "stream",
     "text": [
      "――――――――――――――――――――――――――――――\n",
      "\n",
      "difficulty: 2\n"
     ]
    },
    {
     "data": {
      "image/png": "[encoded data removed]",
      "text/latex": [
       "$\\displaystyle 20 x - 35 = 1825$"
      ],
      "text/plain": [
       "20⋅x - 35 = 1825"
      ]
     },
     "metadata": {},
     "output_type": "display_data"
    },
    {
     "data": {
      "image/png": "[encoded data removed]",
      "text/latex": [
       "$\\displaystyle \\left[ 93\\right]$"
      ],
      "text/plain": [
       "[93]"
      ]
     },
     "metadata": {},
     "output_type": "display_data"
    },
    {
     "name": "stdout",
     "output_type": "stream",
     "text": [
      "――――――――――――――――――――――――――――――\n",
      "\n",
      "difficulty: 2\n"
     ]
    },
    {
     "data": {
      "image/png": "[encoded data removed]",
      "text/latex": [
       "$\\displaystyle x^{2} = 0$"
      ],
      "text/plain": [
       " 2    \n",
       "x  = 0"
      ]
     },
     "metadata": {},
     "output_type": "display_data"
    },
    {
     "data": {
      "image/png": "[encoded data removed]",
      "text/latex": [
       "$\\displaystyle \\left[ 0\\right]$"
      ],
      "text/plain": [
       "[0]"
      ]
     },
     "metadata": {},
     "output_type": "display_data"
    },
    {
     "name": "stdout",
     "output_type": "stream",
     "text": [
      "――――――――――――――――――――――――――――――\n",
      "\n",
      "difficulty: 13\n"
     ]
    },
    {
     "data": {
      "image/png": "[encoded data removed]",
      "text/latex": [
       "$\\displaystyle \\frac{\\frac{x}{6} + \\frac{8}{3}}{\\frac{9 x^{2}}{8 \\left(\\frac{x}{144} + \\frac{3}{16}\\right)} - \\left(x + 5\\right)^{2}} = 0$"
      ],
      "text/plain": [
       "         x   8             \n",
       "         ─ + ─             \n",
       "         6   3             \n",
       "─────────────────────── = 0\n",
       "       2                   \n",
       "    9⋅x               2    \n",
       "──────────── - (x + 5)     \n",
       "  ⎛ x    3 ⎞               \n",
       "8⋅⎜─── + ──⎟               \n",
       "  ⎝144   16⎠               "
      ]
     },
     "metadata": {},
     "output_type": "display_data"
    },
    {
     "data": {
      "image/png": "[encoded data removed]",
      "text/latex": [
       "$\\displaystyle \\left[ -16\\right]$"
      ],
      "text/plain": [
       "[-16]"
      ]
     },
     "metadata": {},
     "output_type": "display_data"
    },
    {
     "name": "stdout",
     "output_type": "stream",
     "text": [
      "――――――――――――――――――――――――――――――\n",
      "\n",
      "difficulty: 3\n"
     ]
    },
    {
     "data": {
      "image/png": "[encoded data removed]",
      "text/latex": [
       "$\\displaystyle \\frac{x}{9} + \\frac{25}{3} = \\frac{44}{3}$"
      ],
      "text/plain": [
       "x   25       \n",
       "─ + ── = 44/3\n",
       "9   3        "
      ]
     },
     "metadata": {},
     "output_type": "display_data"
    },
    {
     "data": {
      "image/png": "[encoded data removed]",
      "text/latex": [
       "$\\displaystyle \\left[ 57\\right]$"
      ],
      "text/plain": [
       "[57]"
      ]
     },
     "metadata": {},
     "output_type": "display_data"
    },
    {
     "name": "stdout",
     "output_type": "stream",
     "text": [
      "――――――――――――――――――――――――――――――\n",
      "\n",
      "difficulty: 16\n"
     ]
    },
    {
     "data": {
      "image/png": "[encoded data removed]",
      "text/latex": [
       "$\\displaystyle \\left(\\frac{x}{17} + \\frac{20}{17}\\right) \\left(\\frac{1331 x}{190} - \\frac{4}{19}\\right) = 0$"
      ],
      "text/plain": [
       "⎛x    20⎞ ⎛1331⋅x   4 ⎞    \n",
       "⎜── + ──⎟⋅⎜────── - ──⎟ = 0\n",
       "⎝17   17⎠ ⎝ 190     19⎠    "
      ]
     },
     "metadata": {},
     "output_type": "display_data"
    },
    {
     "data": {
      "image/png": "[encoded data removed]",
      "text/latex": [
       "$\\displaystyle \\left[ -20, \\  \\frac{40}{1331}\\right]$"
      ],
      "text/plain": [
       "⎡      40 ⎤\n",
       "⎢-20, ────⎥\n",
       "⎣     1331⎦"
      ]
     },
     "metadata": {},
     "output_type": "display_data"
    },
    {
     "name": "stdout",
     "output_type": "stream",
     "text": [
      "――――――――――――――――――――――――――――――\n",
      "\n",
      "difficulty: 10\n"
     ]
    },
    {
     "data": {
      "image/png": "[encoded data removed]",
      "text/latex": [
       "$\\displaystyle \\frac{8 x + 96}{12 x^{2}} = 0$"
      ],
      "text/plain": [
       "8⋅x + 96    \n",
       "──────── = 0\n",
       "     2      \n",
       " 12⋅x       "
      ]
     },
     "metadata": {},
     "output_type": "display_data"
    },
    {
     "data": {
      "image/png": "[encoded data removed]",
      "text/latex": [
       "$\\displaystyle \\left[ -12\\right]$"
      ],
      "text/plain": [
       "[-12]"
      ]
     },
     "metadata": {},
     "output_type": "display_data"
    },
    {
     "name": "stdout",
     "output_type": "stream",
     "text": [
      "――――――――――――――――――――――――――――――\n",
      "\n",
      "difficulty: 11\n"
     ]
    },
    {
     "data": {
      "image/png": "[encoded data removed]",
      "text/latex": [
       "$\\displaystyle \\frac{\\frac{16 x}{7} - 13}{x^{2} - \\frac{\\left(x - 55\\right)^{2}}{324 \\left(\\frac{x}{2} + \\frac{107}{6}\\right)}} = 0$"
      ],
      "text/plain": [
       "    16⋅x              \n",
       "    ──── - 13         \n",
       "     7                \n",
       "────────────────── = 0\n",
       "               2      \n",
       " 2     (x - 55)       \n",
       "x  - ─────────────    \n",
       "         ⎛x   107⎞    \n",
       "     324⋅⎜─ + ───⎟    \n",
       "         ⎝2    6 ⎠    "
      ]
     },
     "metadata": {},
     "output_type": "display_data"
    },
    {
     "data": {
      "image/png": "[encoded data removed]",
      "text/latex": [
       "$\\displaystyle \\left[ \\frac{91}{16}\\right]$"
      ],
      "text/plain": [
       "⎡91⎤\n",
       "⎢──⎥\n",
       "⎣16⎦"
      ]
     },
     "metadata": {},
     "output_type": "display_data"
    },
    {
     "name": "stdout",
     "output_type": "stream",
     "text": [
      "――――――――――――――――――――――――――――――\n",
      "\n",
      "difficulty: 12\n"
     ]
    },
    {
     "data": {
      "image/png": "[encoded data removed]",
      "text/latex": [
       "$\\displaystyle \\frac{14 x^{2}}{5} + 12 x - 24 = 0$"
      ],
      "text/plain": [
       "    2                \n",
       "14⋅x                 \n",
       "───── + 12⋅x - 24 = 0\n",
       "  5                  "
      ]
     },
     "metadata": {},
     "output_type": "display_data"
    },
    {
     "data": {
      "image/png": "[encoded data removed]",
      "text/latex": [
       "$\\displaystyle \\left[ - \\frac{15}{7} + \\frac{\\sqrt{645}}{7}, \\  - \\frac{\\sqrt{645}}{7} - \\frac{15}{7}\\right]$"
      ],
      "text/plain": [
       "⎡  15   √645    √645   15⎤\n",
       "⎢- ── + ────, - ──── - ──⎥\n",
       "⎣  7     7       7     7 ⎦"
      ]
     },
     "metadata": {},
     "output_type": "display_data"
    },
    {
     "name": "stdout",
     "output_type": "stream",
     "text": [
      "――――――――――――――――――――――――――――――\n",
      "\n",
      "difficulty: 3\n"
     ]
    },
    {
     "data": {
      "image/png": "[encoded data removed]",
      "text/latex": [
       "$\\displaystyle \\frac{10 x}{9} + 2 = \\frac{56}{3}$"
      ],
      "text/plain": [
       "10⋅x           \n",
       "──── + 2 = 56/3\n",
       " 9             "
      ]
     },
     "metadata": {},
     "output_type": "display_data"
    },
    {
     "data": {
      "image/png": "[encoded data removed]",
      "text/latex": [
       "$\\displaystyle \\left[ 15\\right]$"
      ],
      "text/plain": [
       "[15]"
      ]
     },
     "metadata": {},
     "output_type": "display_data"
    },
    {
     "name": "stdout",
     "output_type": "stream",
     "text": [
      "――――――――――――――――――――――――――――――\n",
      "\n",
      "difficulty: 4\n"
     ]
    },
    {
     "data": {
      "image/png": "[encoded data removed]",
      "text/latex": [
       "$\\displaystyle 9 x^{2} = 0$"
      ],
      "text/plain": [
       "   2    \n",
       "9⋅x  = 0"
      ]
     },
     "metadata": {},
     "output_type": "display_data"
    },
    {
     "data": {
      "image/png": "[encoded data removed]",
      "text/latex": [
       "$\\displaystyle \\left[ 0\\right]$"
      ],
      "text/plain": [
       "[0]"
      ]
     },
     "metadata": {},
     "output_type": "display_data"
    },
    {
     "name": "stdout",
     "output_type": "stream",
     "text": [
      "――――――――――――――――――――――――――――――\n",
      "\n",
      "difficulty: 7\n"
     ]
    },
    {
     "data": {
      "image/png": "[encoded data removed]",
      "text/latex": [
       "$\\displaystyle \\frac{x}{4 \\left(- \\frac{17 x^{2}}{144} + \\frac{x}{40} - \\frac{9}{4}\\right)} = 0$"
      ],
      "text/plain": [
       "         x              \n",
       "──────────────────── = 0\n",
       "  ⎛      2         ⎞    \n",
       "  ⎜  17⋅x    x    9⎟    \n",
       "4⋅⎜- ───── + ── - ─⎟    \n",
       "  ⎝   144    40   4⎠    "
      ]
     },
     "metadata": {},
     "output_type": "display_data"
    },
    {
     "data": {
      "image/png": "[encoded data removed]",
      "text/latex": [
       "$\\displaystyle \\left[ 0\\right]$"
      ],
      "text/plain": [
       "[0]"
      ]
     },
     "metadata": {},
     "output_type": "display_data"
    },
    {
     "name": "stdout",
     "output_type": "stream",
     "text": [
      "――――――――――――――――――――――――――――――\n",
      "\n",
      "difficulty: 10\n"
     ]
    },
    {
     "data": {
      "image/png": "[encoded data removed]",
      "text/latex": [
       "$\\displaystyle \\frac{x^{2}}{81} + 5 x - 40 = 0$"
      ],
      "text/plain": [
       " 2               \n",
       "x                \n",
       "── + 5⋅x - 40 = 0\n",
       "81               "
      ]
     },
     "metadata": {},
     "output_type": "display_data"
    },
    {
     "data": {
      "image/png": "[encoded data removed]",
      "text/latex": [
       "$\\displaystyle \\left[ - \\frac{405}{2} + \\frac{9 \\sqrt{2185}}{2}, \\  - \\frac{9 \\sqrt{2185}}{2} - \\frac{405}{2}\\right]$"
      ],
      "text/plain": [
       "⎡  405   9⋅√2185    9⋅√2185   405⎤\n",
       "⎢- ─── + ───────, - ─────── - ───⎥\n",
       "⎣   2       2          2       2 ⎦"
      ]
     },
     "metadata": {},
     "output_type": "display_data"
    },
    {
     "name": "stdout",
     "output_type": "stream",
     "text": [
      "――――――――――――――――――――――――――――――\n",
      "\n",
      "difficulty: 2\n"
     ]
    },
    {
     "data": {
      "image/png": "[encoded data removed]",
      "text/latex": [
       "$\\displaystyle 39 x - 82 = 3311$"
      ],
      "text/plain": [
       "39⋅x - 82 = 3311"
      ]
     },
     "metadata": {},
     "output_type": "display_data"
    },
    {
     "data": {
      "image/png": "[encoded data removed]",
      "text/latex": [
       "$\\displaystyle \\left[ 87\\right]$"
      ],
      "text/plain": [
       "[87]"
      ]
     },
     "metadata": {},
     "output_type": "display_data"
    },
    {
     "name": "stdout",
     "output_type": "stream",
     "text": [
      "――――――――――――――――――――――――――――――\n",
      "\n",
      "difficulty: 2\n"
     ]
    },
    {
     "data": {
      "image/png": "[encoded data removed]",
      "text/latex": [
       "$\\displaystyle \\frac{x}{14} + 1 = \\frac{89}{14}$"
      ],
      "text/plain": [
       "x        89\n",
       "── + 1 = ──\n",
       "14       14"
      ]
     },
     "metadata": {},
     "output_type": "display_data"
    },
    {
     "data": {
      "image/png": "[encoded data removed]",
      "text/latex": [
       "$\\displaystyle \\left[ 75\\right]$"
      ],
      "text/plain": [
       "[75]"
      ]
     },
     "metadata": {},
     "output_type": "display_data"
    },
    {
     "name": "stdout",
     "output_type": "stream",
     "text": [
      "――――――――――――――――――――――――――――――\n",
      "\n",
      "difficulty: 6\n"
     ]
    },
    {
     "data": {
      "image/png": "[encoded data removed]",
      "text/latex": [
       "$\\displaystyle \\left(12 x - 11\\right)^{2} = 0$"
      ],
      "text/plain": [
       "           2    \n",
       "(12⋅x - 11)  = 0"
      ]
     },
     "metadata": {},
     "output_type": "display_data"
    },
    {
     "data": {
      "image/png": "[encoded data removed]",
      "text/latex": [
       "$\\displaystyle \\left[ \\frac{11}{12}\\right]$"
      ],
      "text/plain": [
       "⎡11⎤\n",
       "⎢──⎥\n",
       "⎣12⎦"
      ]
     },
     "metadata": {},
     "output_type": "display_data"
    },
    {
     "name": "stdout",
     "output_type": "stream",
     "text": [
      "――――――――――――――――――――――――――――――\n",
      "\n",
      "difficulty: 96\n"
     ]
    },
    {
     "data": {
      "image/png": "[encoded data removed]",
      "text/latex": [
       "$\\displaystyle \\left(\\frac{x^{2}}{11} - \\left(\\frac{11 x^{2}}{5} - 13\\right) \\left(4 \\left(2 x + 7\\right)^{2} - 5\\right)\\right) \\left(x^{2} - 5\\right) = 0$"
      ],
      "text/plain": [
       "⎛ 2   ⎛    2     ⎞                   ⎞             \n",
       "⎜x    ⎜11⋅x      ⎟ ⎛           2    ⎞⎟ ⎛ 2    ⎞    \n",
       "⎜── - ⎜───── - 13⎟⋅⎝4⋅(2⋅x + 7)  - 5⎠⎟⋅⎝x  - 5⎠ = 0\n",
       "⎝11   ⎝  5       ⎠                   ⎠             "
      ]
     },
     "metadata": {},
     "output_type": "display_data"
    },
    {
     "data": {
      "image/png": "[encoded data removed]",
      "text/latex": [
       "$\\displaystyle \\left[ - \\sqrt{5}, \\  \\sqrt{5}\\right]$"
      ],
      "text/plain": [
       "[-√5, √5]"
      ]
     },
     "metadata": {},
     "output_type": "display_data"
    },
    {
     "name": "stdout",
     "output_type": "stream",
     "text": [
      "――――――――――――――――――――――――――――――\n",
      "\n",
      "difficulty: 30\n"
     ]
    },
    {
     "data": {
      "image/png": "[encoded data removed]",
      "text/latex": [
       "$\\displaystyle \\frac{x \\left(x^{2} - 12\\right)}{\\left(4 x - 41\\right) \\left(3 x^{2} - 15\\right)} = 0$"
      ],
      "text/plain": [
       "       ⎛ 2     ⎞          \n",
       "     x⋅⎝x  - 12⎠          \n",
       "────────────────────── = 0\n",
       "           ⎛   2     ⎞    \n",
       "(4⋅x - 41)⋅⎝3⋅x  - 15⎠    "
      ]
     },
     "metadata": {},
     "output_type": "display_data"
    },
    {
     "data": {
      "image/png": "[encoded data removed]",
      "text/latex": [
       "$\\displaystyle \\left[ 0, \\  - 2 \\sqrt{3}, \\  2 \\sqrt{3}\\right]$"
      ],
      "text/plain": [
       "[0, -2⋅√3, 2⋅√3]"
      ]
     },
     "metadata": {},
     "output_type": "display_data"
    },
    {
     "name": "stdout",
     "output_type": "stream",
     "text": [
      "――――――――――――――――――――――――――――――\n",
      "\n",
      "difficulty: 12\n"
     ]
    },
    {
     "data": {
      "image/png": "[encoded data removed]",
      "text/latex": [
       "$\\displaystyle \\frac{- x^{2} + 13 x + 7}{x + 1} = 0$"
      ],
      "text/plain": [
       "   2               \n",
       "- x  + 13⋅x + 7    \n",
       "─────────────── = 0\n",
       "     x + 1         "
      ]
     },
     "metadata": {},
     "output_type": "display_data"
    },
    {
     "data": {
      "image/png": "[encoded data removed]",
      "text/latex": [
       "$\\displaystyle \\left[ \\frac{13}{2} - \\frac{\\sqrt{197}}{2}, \\  \\frac{13}{2} + \\frac{\\sqrt{197}}{2}\\right]$"
      ],
      "text/plain": [
       "⎡13   √197  13   √197⎤\n",
       "⎢── - ────, ── + ────⎥\n",
       "⎣2     2    2     2  ⎦"
      ]
     },
     "metadata": {},
     "output_type": "display_data"
    },
    {
     "name": "stdout",
     "output_type": "stream",
     "text": [
      "――――――――――――――――――――――――――――――\n",
      "\n",
      "difficulty: 3\n"
     ]
    },
    {
     "data": {
      "image/png": "[encoded data removed]",
      "text/latex": [
       "$\\displaystyle \\frac{x}{13} + \\frac{218}{13} = \\frac{267}{13}$"
      ],
      "text/plain": [
       "x    218   267\n",
       "── + ─── = ───\n",
       "13    13    13"
      ]
     },
     "metadata": {},
     "output_type": "display_data"
    },
    {
     "data": {
      "image/png": "[encoded data removed]",
      "text/latex": [
       "$\\displaystyle \\left[ 49\\right]$"
      ],
      "text/plain": [
       "[49]"
      ]
     },
     "metadata": {},
     "output_type": "display_data"
    },
    {
     "name": "stdout",
     "output_type": "stream",
     "text": [
      "――――――――――――――――――――――――――――――\n",
      "\n",
      "difficulty: 24\n"
     ]
    },
    {
     "data": {
      "image/png": "[encoded data removed]",
      "text/latex": [
       "$\\displaystyle \\frac{x^{2} \\left(10 x^{2} - 4\\right)}{81} = 0$"
      ],
      "text/plain": [
       " 2 ⎛    2    ⎞    \n",
       "x ⋅⎝10⋅x  - 4⎠    \n",
       "────────────── = 0\n",
       "      81          "
      ]
     },
     "metadata": {},
     "output_type": "display_data"
    },
    {
     "data": {
      "image/png": "[encoded data removed]",
      "text/latex": [
       "$\\displaystyle \\left[ 0, \\  - \\frac{\\sqrt{10}}{5}, \\  \\frac{\\sqrt{10}}{5}\\right]$"
      ],
      "text/plain": [
       "⎡   -√10   √10⎤\n",
       "⎢0, ─────, ───⎥\n",
       "⎣     5     5 ⎦"
      ]
     },
     "metadata": {},
     "output_type": "display_data"
    },
    {
     "name": "stdout",
     "output_type": "stream",
     "text": [
      "――――――――――――――――――――――――――――――\n",
      "\n",
      "difficulty: 12\n"
     ]
    },
    {
     "data": {
      "image/png": "[encoded data removed]",
      "text/latex": [
       "$\\displaystyle \\left(\\frac{x}{9} + \\frac{17}{9}\\right) \\left(4 x + 72\\right) = 0$"
      ],
      "text/plain": [
       "⎛x   17⎞               \n",
       "⎜─ + ──⎟⋅(4⋅x + 72) = 0\n",
       "⎝9   9 ⎠               "
      ]
     },
     "metadata": {},
     "output_type": "display_data"
    },
    {
     "data": {
      "image/png": "[encoded data removed]",
      "text/latex": [
       "$\\displaystyle \\left[ -18, \\  -17\\right]$"
      ],
      "text/plain": [
       "[-18, -17]"
      ]
     },
     "metadata": {},
     "output_type": "display_data"
    },
    {
     "name": "stdout",
     "output_type": "stream",
     "text": [
      "――――――――――――――――――――――――――――――\n",
      "\n",
      "difficulty: 3\n"
     ]
    },
    {
     "data": {
      "image/png": "[encoded data removed]",
      "text/latex": [
       "$\\displaystyle \\frac{3 x}{2} - 5 = - \\frac{7}{2}$"
      ],
      "text/plain": [
       "3⋅x           \n",
       "─── - 5 = -7/2\n",
       " 2            "
      ]
     },
     "metadata": {},
     "output_type": "display_data"
    },
    {
     "data": {
      "image/png": "[encoded data removed]",
      "text/latex": [
       "$\\displaystyle \\left[ 1\\right]$"
      ],
      "text/plain": [
       "[1]"
      ]
     },
     "metadata": {},
     "output_type": "display_data"
    },
    {
     "name": "stdout",
     "output_type": "stream",
     "text": [
      "――――――――――――――――――――――――――――――\n",
      "\n",
      "difficulty: 3\n"
     ]
    },
    {
     "data": {
      "image/png": "[encoded data removed]",
      "text/latex": [
       "$\\displaystyle \\frac{273 x}{8} + 28 = \\frac{2513}{2}$"
      ],
      "text/plain": [
       "273⋅x              \n",
       "───── + 28 = 2513/2\n",
       "  8                "
      ]
     },
     "metadata": {},
     "output_type": "display_data"
    },
    {
     "data": {
      "image/png": "[encoded data removed]",
      "text/latex": [
       "$\\displaystyle \\left[ 36\\right]$"
      ],
      "text/plain": [
       "[36]"
      ]
     },
     "metadata": {},
     "output_type": "display_data"
    },
    {
     "name": "stdout",
     "output_type": "stream",
     "text": [
      "――――――――――――――――――――――――――――――\n",
      "\n",
      "difficulty: 12\n"
     ]
    },
    {
     "data": {
      "image/png": "[encoded data removed]",
      "text/latex": [
       "$\\displaystyle \\frac{17 x}{8 \\left(\\frac{x}{88} - \\frac{50}{11}\\right) \\left(x - 12\\right) \\left(\\frac{14 x}{3} - 4\\right)} = 0$"
      ],
      "text/plain": [
       "              17⋅x                 \n",
       "─────────────────────────────── = 0\n",
       "  ⎛x    50⎞          ⎛14⋅x    ⎞    \n",
       "8⋅⎜── - ──⎟⋅(x - 12)⋅⎜──── - 4⎟    \n",
       "  ⎝88   11⎠          ⎝ 3      ⎠    "
      ]
     },
     "metadata": {},
     "output_type": "display_data"
    },
    {
     "data": {
      "image/png": "[encoded data removed]",
      "text/latex": [
       "$\\displaystyle \\left[ 0\\right]$"
      ],
      "text/plain": [
       "[0]"
      ]
     },
     "metadata": {},
     "output_type": "display_data"
    },
    {
     "name": "stdout",
     "output_type": "stream",
     "text": [
      "――――――――――――――――――――――――――――――\n",
      "\n",
      "difficulty: 10\n"
     ]
    },
    {
     "data": {
      "image/png": "[encoded data removed]",
      "text/latex": [
       "$\\displaystyle - 238 x + \\left(x - 2\\right)^{2} - 44 = -13897$"
      ],
      "text/plain": [
       "                2              \n",
       "-238⋅x + (x - 2)  - 44 = -13897"
      ]
     },
     "metadata": {},
     "output_type": "display_data"
    },
    {
     "data": {
      "image/png": "[encoded data removed]",
      "text/latex": [
       "$\\displaystyle \\left[ 93, \\  149\\right]$"
      ],
      "text/plain": [
       "[93, 149]"
      ]
     },
     "metadata": {},
     "output_type": "display_data"
    },
    {
     "name": "stdout",
     "output_type": "stream",
     "text": [
      "――――――――――――――――――――――――――――――\n",
      "\n",
      "difficulty: 20\n"
     ]
    },
    {
     "data": {
      "image/png": "[encoded data removed]",
      "text/latex": [
       "$\\displaystyle \\frac{2197 x^{4}}{14} + \\frac{x}{17} = 0$"
      ],
      "text/plain": [
       "      4         \n",
       "2197⋅x    x     \n",
       "─────── + ── = 0\n",
       "   14     17    "
      ]
     },
     "metadata": {},
     "output_type": "display_data"
    },
    {
     "data": {
      "image/png": "[encoded data removed]",
      "text/latex": [
       "$\\displaystyle \\left[ 0, \\  - \\frac{\\sqrt[3]{14} \\cdot 17^{\\frac{2}{3}}}{221}\\right]$"
      ],
      "text/plain": [
       "⎡    3 ____   2/3 ⎤\n",
       "⎢   -╲╱ 14 ⋅17    ⎥\n",
       "⎢0, ──────────────⎥\n",
       "⎣        221      ⎦"
      ]
     },
     "metadata": {},
     "output_type": "display_data"
    },
    {
     "name": "stdout",
     "output_type": "stream",
     "text": [
      "――――――――――――――――――――――――――――――\n",
      "\n",
      "difficulty: 21\n"
     ]
    },
    {
     "data": {
      "image/png": "[encoded data removed]",
      "text/latex": [
       "$\\displaystyle \\frac{x^{3}}{2 \\left(x + 130\\right)} + \\frac{19 x}{17} = 0$"
      ],
      "text/plain": [
       "      3               \n",
       "     x        19⋅x    \n",
       "─────────── + ──── = 0\n",
       "2⋅(x + 130)    17     "
      ]
     },
     "metadata": {},
     "output_type": "display_data"
    },
    {
     "data": {
      "image/png": "[encoded data removed]",
      "text/latex": [
       "$\\displaystyle \\left[ 0\\right]$"
      ],
      "text/plain": [
       "[0]"
      ]
     },
     "metadata": {},
     "output_type": "display_data"
    },
    {
     "name": "stdout",
     "output_type": "stream",
     "text": [
      "――――――――――――――――――――――――――――――\n",
      "\n",
      "difficulty: 24\n"
     ]
    },
    {
     "data": {
      "image/png": "[encoded data removed]",
      "text/latex": [
       "$\\displaystyle - 4 x^{2} + \\frac{13 x \\left(x^{2} + 7\\right)}{36} = 0$"
      ],
      "text/plain": [
       "              ⎛ 2    ⎞    \n",
       "     2   13⋅x⋅⎝x  + 7⎠    \n",
       "- 4⋅x  + ───────────── = 0\n",
       "               36         "
      ]
     },
     "metadata": {},
     "output_type": "display_data"
    },
    {
     "data": {
      "image/png": "[encoded data removed]",
      "text/latex": [
       "$\\displaystyle \\left[ 0, \\  \\frac{72}{13} - \\frac{\\sqrt{4001}}{13}, \\  \\frac{\\sqrt{4001}}{13} + \\frac{72}{13}\\right]$"
      ],
      "text/plain": [
       "⎡   72   √4001  √4001   72⎤\n",
       "⎢0, ── - ─────, ───── + ──⎥\n",
       "⎣   13     13     13    13⎦"
      ]
     },
     "metadata": {},
     "output_type": "display_data"
    },
    {
     "name": "stdout",
     "output_type": "stream",
     "text": [
      "――――――――――――――――――――――――――――――\n"
     ]
    }
   ],
   "source": [
    "for x in range(100):\n",
    "    %run generator.py\n",
    "    print('―'*30)"
   ]
  },
  {
   "cell_type": "code",
   "execution_count": null,
   "metadata": {},
   "outputs": [],
   "source": [
    "%run generator.py"
   ]
  }
 ],
 "metadata": {
  "kernelspec": {
   "display_name": "Python 3",
   "language": "python",
   "name": "python3"
  },
  "language_info": {
   "codemirror_mode": {
    "name": "ipython",
    "version": 3
   },
   "file_extension": ".py",
   "mimetype": "text/x-python",
   "name": "python",
   "nbconvert_exporter": "python",
   "pygments_lexer": "ipython3",
   "version": "3.7.4"
  }
 },
 "nbformat": 4,
 "nbformat_minor": 4
}
